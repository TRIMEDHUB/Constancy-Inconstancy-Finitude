import numpy as np
import matplotlib.pyplot as plt

# Parameters
L0 = 1.0
time = np.linspace(0, 10, 100)

# Different alphas
alphas = [0.005, 0.01, 0.015]
for alpha in alphas:
    L = L0 * np.exp(-alpha * time)
    plt.plot(time, L, label=f'α = {alpha}')

plt.xlabel('Time')
plt.ylabel('Luminosity')
plt.title('Sensitivity Analysis of α')
plt.legend()
plt.grid(True)
plt.show()
